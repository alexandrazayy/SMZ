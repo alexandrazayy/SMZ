{
 "cells": [
  {
   "cell_type": "code",
   "execution_count": 1,
   "metadata": {
    "executionInfo": {
     "elapsed": 5543,
     "status": "ok",
     "timestamp": 1702043269992,
     "user": {
      "displayName": "Adlisse",
      "userId": "09888939323989321551"
     },
     "user_tz": -180
    },
    "id": "AEsb-oVArv5N"
   },
   "outputs": [],
   "source": [
    "# Импорт всех необходимых библиотек\n",
    "\n",
    "import torch\n",
    "import numpy as np\n",
    "from torch.nn.functional import conv3d as libConv3d"
   ]
  },
  {
   "cell_type": "code",
   "execution_count": 2,
   "metadata": {
    "executionInfo": {
     "elapsed": 4,
     "status": "ok",
     "timestamp": 1702043269993,
     "user": {
      "displayName": "Adlisse",
      "userId": "09888939323989321551"
     },
     "user_tz": -180
    },
    "id": "LadJN42Qrv5P"
   },
   "outputs": [],
   "source": [
    "class myfunc_Conv3D():  # Определение класса для реализации трехмерной свертки\n",
    "    def __init__(  # Инициализация объекта класса со всеми необходимыми параметрами\n",
    "        self,  \n",
    "        input_data,  \n",
    "        in_channels: int,  # Количество входных каналов\n",
    "        out_channels: int,  # Количество выходных каналов\n",
    "        kernel_size: tuple | int,  # Размер ядра свертки (может быть кортежем или целым числом)\n",
    "        bias: float | None = None,  \n",
    "        stride: int = 1,  \n",
    "        padding: tuple[int, int] | int | str = (0, 0), \n",
    "        dilation: int = 1, \n",
    "    ):\n",
    "        self.input_data = input_data.numpy()  \n",
    "        self.input_data_for_torch = input_data \n",
    "        self.bias = bias \n",
    "\n",
    "        self.in_channels, self.out_channels = in_channels, out_channels  \n",
    "\n",
    "        if type(kernel_size) == tuple:  # Проверка типа ядра свертки\n",
    "            self.kernel_size = kernel_size  \n",
    "        else:\n",
    "            self.kernel_size = (kernel_size, kernel_size, kernel_size) \n",
    "\n",
    "        if type(stride) == tuple:  # Проверка типа шага свертки\n",
    "            self.stride = stride \n",
    "        else:\n",
    "            self.stride = (stride, stride, stride) \n",
    "\n",
    "        if type(dilation) == tuple:  # Проверка типа параметра dilation\n",
    "            self.dilation = dilation  \n",
    "        else:\n",
    "            self.dilation = (dilation, dilation, dilation) \n",
    "\n",
    "        if type(padding) == tuple:  # Проверка типа параметра паддинга\n",
    "            self.padding = padding \n",
    "        elif padding == \"same\": \n",
    "            if self.stride[0] != 1 or self.stride[1] != 1 or self.stride[2] != 1:  # Проверка, что шаг свертки равен 1\n",
    "                raise ValueError(\"padding 'same' works only with stride=1\")  # Ошибка, если шаг не равен 1\n",
    "            self.padding = (self.kernel_size[0] - 1, self.kernel_size[1] - 1, self.kernel_size[2] - 1)  # Вычисление паддинга для \"same\"\n",
    "        elif padding == \"valid\":  \n",
    "            self.padding = (0, 0, 0) \n",
    "        else:\n",
    "            self.padding = (padding, padding, padding)  \n",
    "\n",
    "        self.weight_tensor_for_torch = torch.randn(1, 1, self.kernel_size[0], self.kernel_size[1], self.kernel_size[2])\n",
    "        self.weight_tensor = self.weight_tensor_for_torch.numpy() \n",
    "\n",
    "    def conv3d(self):  # Реализация трехмерной операции свертки\n",
    "        batches = len(self.input_data)  \n",
    "        out = [] \n",
    "\n",
    "        for b in range(batches):  # Цикл по батчам\n",
    "            d_in = self.input_data[b].shape[1] \n",
    "            h_in = self.input_data[b].shape[2] \n",
    "            w_in = self.input_data[b].shape[3]  \n",
    "\n",
    "            if self.kernel_size[0] > h_in or self.kernel_size[1] > w_in or self.kernel_size[2] > d_in:\n",
    "                raise ValueError(\"kernel size can't be greater than input size\")  # Ошибка, если размер ядра больше размера входных данных\n",
    "\n",
    "            d_out = int((d_in + 2 * self.padding[0] - self.dilation[0] * (self.kernel_size[0] - 1) - 1) / (self.stride[0]) + 1)  \n",
    "            h_out = int((h_in + 2 * self.padding[1] - self.dilation[1] * (self.kernel_size[1] - 1) - 1) / (self.stride[1]) + 1)  \n",
    "            w_out = int((w_in + 2 * self.padding[2] - self.dilation[2] * (self.kernel_size[2] - 1) - 1) / (self.stride[2]) + 1)  \n",
    "\n",
    "            out.append(np.zeros((self.out_channels, d_out, h_out, w_out)))  # Инициализация результата для текущего батча\n",
    "\n",
    "            for c_out in range(self.out_channels):  # Цикл по выходным каналам\n",
    "                for z_out in range(d_out):  # Цикл по размеру выходных данных по глубине\n",
    "                    for y_out in range(h_out):  # Цикл по размеру выходных данных по высоте\n",
    "                        for x_out in range(w_out):  # Цикл по размеру выходных данных по ширине\n",
    "                            sum = 0  \n",
    "                            for c_in in range(self.in_channels):  # Цикл по входным каналам\n",
    "                                for kernel_z in range(self.kernel_size[0]):  # Цикл по размеру ядра по глубине\n",
    "                                    for kernel_y in range(self.kernel_size[1]):  # Цикл по размеру ядра по высоте\n",
    "                                        for kernel_x in range(self.kernel_size[2]):  # Цикл по размеру ядра по ширине\n",
    "                                            z_in = z_out * self.stride[0] + kernel_z * self.dilation[0] - self.padding[0]  # Вычисление координаты \n",
    "                                            y_in = y_out * self.stride[1] + kernel_y * self.dilation[1] - self.padding[1]  \n",
    "                                            x_in = x_out * self.stride[2] + kernel_x * self.dilation[2] - self.padding[2]  \n",
    "                                            if 0 <= z_in < d_in and 0 <= y_in < h_in and 0 <= x_in < w_in:  # Проверка, что координаты находятся в пределах входных данных\n",
    "                                                sum += self.input_data[b][c_in][z_in][y_in][x_in] * self.weight_tensor[c_out][c_in][kernel_z][kernel_y][kernel_x]  # Вычисление свертки\n",
    "\n",
    "                            out[b][c_out][z_out][y_out][x_out] = sum + (self.bias if self.bias else 0)  \n",
    "\n",
    "        return np.array(out)  # Возвращение результата в виде numpy массива\n",
    "\n",
    "    def torch_conv3d(self):  # Вызов операции трехмерной свертки из библиотеки torch\n",
    "        return libConv3d(\n",
    "            self.input_data_for_torch, self.weight_tensor_for_torch,\n",
    "            bias=torch.tensor([self.bias]), stride=self.stride, padding=self.padding, dilation=self.dilation\n",
    "        )\n",
    "\n",
    "    def test(self, print_flg=False):  # Проверка работы моей трехмерной свертки по сравнению с ориг из библиотекой torch\n",
    "        my_conv3d = self.conv3d()  \n",
    "        torch_out = self.torch_conv3d().squeeze().detach().numpy()  \n",
    "        if print_flg:  \n",
    "            print(my_conv3d[0][0])  \n",
    "            print(torch_out)  \n",
    "        print(np.allclose(my_conv3d[0][0], torch_out))  # Проверка совпадения результатов трехмерной сверткиЯ"
   ]
  },
  {
   "cell_type": "markdown",
   "metadata": {},
   "source": [
    "### Аналогично прошлой лабе, я также сделала, что дальше идет проверка как раз-таки работоспособности моей функции сразу тест на сравнение со сверткой из торча, совпадают ли наши выходы и правильно ли все работает в общем:"
   ]
  },
  {
   "cell_type": "markdown",
   "metadata": {},
   "source": [
    "#### ТЕСТ 1"
   ]
  },
  {
   "cell_type": "code",
   "execution_count": 19,
   "metadata": {
    "colab": {
     "base_uri": "https://localhost:8080/"
    },
    "executionInfo": {
     "elapsed": 651,
     "status": "ok",
     "timestamp": 1702048241328,
     "user": {
      "displayName": "Adlisse",
      "userId": "09888939323989321551"
     },
     "user_tz": -180
    },
    "id": "r9qsPPxrrv5R",
    "outputId": "c596d661-221b-433b-dccc-9a5a7fd3af37"
   },
   "outputs": [
    {
     "name": "stdout",
     "output_type": "stream",
     "text": [
      "True\n"
     ]
    }
   ],
   "source": [
    "input_data = torch.randn(1, 1, 5, 5, 5)\n",
    "conv3d_layer = myfunc_Conv3D(input_data,in_channels=1, out_channels=1, kernel_size=4, bias=0.5, stride=1, padding='same', dilation=1)\n",
    "conv3d_layer.test(print_flg=False)"
   ]
  },
  {
   "cell_type": "markdown",
   "metadata": {},
   "source": [
    "#### ТЕСТ 2"
   ]
  },
  {
   "cell_type": "code",
   "execution_count": 4,
   "metadata": {
    "colab": {
     "base_uri": "https://localhost:8080/"
    },
    "executionInfo": {
     "elapsed": 11,
     "status": "ok",
     "timestamp": 1702043270854,
     "user": {
      "displayName": "Adlisse",
      "userId": "09888939323989321551"
     },
     "user_tz": -180
    },
    "id": "Q-bNSQeyrv5S",
    "outputId": "bc87d6f5-e661-4cd5-a1c1-2a63b565a4ea"
   },
   "outputs": [
    {
     "name": "stdout",
     "output_type": "stream",
     "text": [
      "True\n"
     ]
    }
   ],
   "source": [
    "input_data = torch.randn(1, 1, 5, 5, 5)\n",
    "conv3d_layer = myfunc_Conv3D(input_data,in_channels=1, out_channels=1, kernel_size=4, bias=0.5, stride=1, padding=2, dilation=1)\n",
    "conv3d_layer.test(print_flg=False)"
   ]
  },
  {
   "cell_type": "markdown",
   "metadata": {},
   "source": [
    "#### ТЕСТ 3"
   ]
  },
  {
   "cell_type": "code",
   "execution_count": 5,
   "metadata": {
    "colab": {
     "base_uri": "https://localhost:8080/"
    },
    "executionInfo": {
     "elapsed": 9,
     "status": "ok",
     "timestamp": 1702043270854,
     "user": {
      "displayName": "Adlisse",
      "userId": "09888939323989321551"
     },
     "user_tz": -180
    },
    "id": "H_zFajqtrv5S",
    "outputId": "e4e21487-bcb1-4fb9-f230-2210a8c0494e"
   },
   "outputs": [
    {
     "name": "stdout",
     "output_type": "stream",
     "text": [
      "True\n"
     ]
    }
   ],
   "source": [
    "input_data = torch.randn(1, 1, 5, 5, 5)\n",
    "conv3d_layer = myfunc_Conv3D(input_data,in_channels=1, out_channels=1, kernel_size=4, bias=0.5, stride=1, padding=1, dilation=2)\n",
    "conv3d_layer.test(print_flg=False)"
   ]
  },
  {
   "cell_type": "markdown",
   "metadata": {},
   "source": [
    "#### ТЕСТ 4"
   ]
  },
  {
   "cell_type": "code",
   "execution_count": 6,
   "metadata": {
    "colab": {
     "base_uri": "https://localhost:8080/"
    },
    "executionInfo": {
     "elapsed": 7,
     "status": "ok",
     "timestamp": 1702043270854,
     "user": {
      "displayName": "Adlisse",
      "userId": "09888939323989321551"
     },
     "user_tz": -180
    },
    "id": "i7NTejDnrv5T",
    "outputId": "d441c9e0-f4fa-4105-d0e7-2893612ee37f"
   },
   "outputs": [
    {
     "name": "stdout",
     "output_type": "stream",
     "text": [
      "True\n"
     ]
    }
   ],
   "source": [
    "input_data = torch.randn(1, 1, 5, 5, 5)\n",
    "conv3d_layer = myfunc_Conv3D(input_data,in_channels=1, out_channels=1, kernel_size=4, bias=0.5, stride=4, padding=1, dilation=1)\n",
    "conv3d_layer.test(print_flg=False)"
   ]
  },
  {
   "cell_type": "markdown",
   "metadata": {},
   "source": [
    "#### ТЕСТ 5"
   ]
  },
  {
   "cell_type": "code",
   "execution_count": 18,
   "metadata": {
    "colab": {
     "base_uri": "https://localhost:8080/"
    },
    "executionInfo": {
     "elapsed": 289,
     "status": "ok",
     "timestamp": 1702048236803,
     "user": {
      "displayName": "Adlisse",
      "userId": "09888939323989321551"
     },
     "user_tz": -180
    },
    "id": "q4EDGlScrv5T",
    "outputId": "35af9b18-a688-46bb-8cb7-b9d510edc320"
   },
   "outputs": [
    {
     "name": "stdout",
     "output_type": "stream",
     "text": [
      "True\n"
     ]
    }
   ],
   "source": [
    "input_data = torch.randn(1, 1, 5, 5, 5)\n",
    "conv3d_layer = myfunc_Conv3D(input_data,in_channels=1, out_channels=1, kernel_size=4, bias=0.5, stride=1, padding=1, dilation=1)\n",
    "conv3d_layer.test(print_flg=False)"
   ]
  },
  {
   "cell_type": "markdown",
   "metadata": {},
   "source": [
    "### И снова все супер - функция свертки работает отлично, результаты с оригинальной из торча совпадают с моей!"
   ]
  },
  {
   "cell_type": "code",
   "execution_count": null,
   "metadata": {},
   "outputs": [],
   "source": []
  }
 ],
 "metadata": {
  "colab": {
   "provenance": []
  },
  "kernelspec": {
   "display_name": "Python 3 (ipykernel)",
   "language": "python",
   "name": "python3"
  },
  "language_info": {
   "codemirror_mode": {
    "name": "ipython",
    "version": 3
   },
   "file_extension": ".py",
   "mimetype": "text/x-python",
   "name": "python",
   "nbconvert_exporter": "python",
   "pygments_lexer": "ipython3",
   "version": "3.11.5"
  }
 },
 "nbformat": 4,
 "nbformat_minor": 4
}
