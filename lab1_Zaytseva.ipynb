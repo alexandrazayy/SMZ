{
 "cells": [
  {
   "cell_type": "code",
   "execution_count": 10,
   "metadata": {
    "executionInfo": {
     "elapsed": 5025,
     "status": "ok",
     "timestamp": 1702060650082,
     "user": {
      "displayName": "Adlisse",
      "userId": "09888939323989321551"
     },
     "user_tz": -180
    },
    "id": "oEBABka8riul"
   },
   "outputs": [],
   "source": [
    "# Импорт всех необходимых библиотек\n",
    "\n",
    "import numpy as np\n",
    "import torch\n",
    "from torch.nn.functional import conv2d as libConv2d"
   ]
  },
  {
   "cell_type": "code",
   "execution_count": 25,
   "metadata": {
    "executionInfo": {
     "elapsed": 22,
     "status": "ok",
     "timestamp": 1702060650083,
     "user": {
      "displayName": "Adlisse",
      "userId": "09888939323989321551"
     },
     "user_tz": -180
    },
    "id": "4yUQk6hMriup"
   },
   "outputs": [],
   "source": [
    "class Conv2D:\n",
    "    def __init__(self, input_data, kernel_size: tuple | int, bias: float | None = None,\n",
    "                 stride: int = 1, padding: tuple[int, int] | int | str = (0, 0), dilation: int = 1):\n",
    "        self.input_data_numpy = input_data[0, 0].numpy()\n",
    "        self.input_data_torch = input_data\n",
    "        self.bias = bias\n",
    "\n",
    "        self.kernel_size = (kernel_size, kernel_size) if isinstance(kernel_size, int) else kernel_size\n",
    "        self.stride, self.dilation = stride, dilation\n",
    "\n",
    "        self.padding = padding[0] if isinstance(padding, tuple) else \\\n",
    "                       (self.kernel_size[0] - 1 if padding == \"same\" and stride == 1 else 0)\n",
    "\n",
    "        self.weight_tensor_torch = torch.randn(1, 1, *self.kernel_size)\n",
    "        self.weight_tensor_numpy = self.weight_tensor_torch[0, 0].numpy()\n",
    "\n",
    "    def conv2d(self):\n",
    "        image_height, image_width = self.input_data_numpy.shape\n",
    "        weight_height, weight_width = self.weight_tensor_numpy.shape\n",
    "        H_out = int((image_height - self.dilation * (weight_height - 1) - 1 + 2 * self.padding) / self.stride) + 1\n",
    "        W_out = int((image_width - self.dilation * (weight_width - 1) - 1 + 2 * self.padding) / self.stride) + 1\n",
    "\n",
    "        self.input_data_numpy = np.pad(self.input_data_numpy, self.padding, mode='constant') if self.padding > 0 else self.input_data_numpy\n",
    "        result = np.array([\n",
    "            [np.sum(self.input_data_numpy[y * self.stride:y * self.stride + weight_height,\n",
    "                   x * self.stride:x * self.stride + weight_width] * self.weight_tensor_numpy)\n",
    "             for x in range(W_out)] for y in range(H_out)\n",
    "        ])\n",
    "\n",
    "        if self.bias:\n",
    "            result += self.bias\n",
    "\n",
    "        return result\n",
    "\n",
    "    def torch_conv2d(self):\n",
    "        return libConv2d(self.input_data_torch, self.weight_tensor_torch, self.bias, self.stride, self.padding,\n",
    "                         self.dilation)\n",
    "\n",
    "    def test(self, print_flag=False):\n",
    "        my_conv2d = self.conv2d()\n",
    "        torch_out = np.array(self.torch_conv2d())\n",
    "        if print_flag:\n",
    "            print(my_conv2d)\n",
    "            print(torch_out[0, 0])\n",
    "        print(np.allclose(my_conv2d, torch_out[0, 0]))"
   ]
  },
  {
   "cell_type": "markdown",
   "metadata": {},
   "source": [
    "### Дальше идет проверка как раз-таки работоспособности моей функции сразу тест на сравнение со сверткой из торча, совпадают ли наши выходы и правильно ли все работает в общем:"
   ]
  },
  {
   "cell_type": "markdown",
   "metadata": {},
   "source": [
    "#### ТЕСТЫ"
   ]
  },
  {
   "cell_type": "code",
   "execution_count": 26,
   "metadata": {
    "colab": {
     "base_uri": "https://localhost:8080/"
    },
    "executionInfo": {
     "elapsed": 21,
     "status": "ok",
     "timestamp": 1702060650083,
     "user": {
      "displayName": "Adlisse",
      "userId": "09888939323989321551"
     },
     "user_tz": -180
    },
    "id": "en4mN9C9tir1",
    "outputId": "0659f3a9-c298-4de2-f8c8-c806ac98452f"
   },
   "outputs": [
    {
     "name": "stdout",
     "output_type": "stream",
     "text": [
      "True\n",
      "True\n",
      "True\n",
      "True\n",
      "True\n",
      "True\n"
     ]
    }
   ],
   "source": [
    "# Tests\n",
    "image = torch.randn(1, 1, 5, 5)\n",
    "test1_out = Conv2D(image, kernel_size=1)\n",
    "test1_out.test()\n",
    "\n",
    "image = torch.randn(1, 1, 5, 5)\n",
    "test2_out = Conv2D(image, kernel_size=1, padding='valid')\n",
    "test2_out.test()\n",
    "\n",
    "image = torch.randn(1, 1, 5, 5)\n",
    "test3_out = Conv2D(image, kernel_size=1, padding='same')\n",
    "test3_out.test()\n",
    "\n",
    "image = torch.randn(1, 1, 5, 5)\n",
    "test4_out = Conv2D(image, kernel_size=4, padding='same')\n",
    "test4_out.test()\n",
    "\n",
    "image = torch.randn(1, 1, 5, 5)\n",
    "test5_out = Conv2D(image, kernel_size=1, dilation=3)\n",
    "test5_out.test()\n",
    "\n",
    "image = torch.randn(1, 1, 5, 5)\n",
    "test6_out = Conv2D(image, kernel_size=1, stride=4)\n",
    "test6_out.test()\n"
   ]
  },
  {
   "cell_type": "markdown",
   "metadata": {},
   "source": [
    "### Как видно из результатов выше -  функция свертки работает отлично, результаты с оригинальной из торча совпадают с моей!"
   ]
  }
 ],
 "metadata": {
  "colab": {
   "provenance": []
  },
  "kernelspec": {
   "display_name": "Python 3 (ipykernel)",
   "language": "python",
   "name": "python3"
  },
  "language_info": {
   "codemirror_mode": {
    "name": "ipython",
    "version": 3
   },
   "file_extension": ".py",
   "mimetype": "text/x-python",
   "name": "python",
   "nbconvert_exporter": "python",
   "pygments_lexer": "ipython3",
   "version": "3.11.5"
  }
 },
 "nbformat": 4,
 "nbformat_minor": 4
}
