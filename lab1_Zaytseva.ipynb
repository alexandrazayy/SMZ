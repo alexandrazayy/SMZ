{
 "cells": [
  {
   "cell_type": "code",
   "execution_count": 10,
   "metadata": {
    "executionInfo": {
     "elapsed": 5025,
     "status": "ok",
     "timestamp": 1702060650082,
     "user": {
      "displayName": "Adlisse",
      "userId": "09888939323989321551"
     },
     "user_tz": -180
    },
    "id": "oEBABka8riul"
   },
   "outputs": [],
   "source": [
    "# Импорт всех необходимых библиотек\n",
    "\n",
    "import numpy as np\n",
    "import torch\n",
    "from torch.nn.functional import conv2d as libConv2d"
   ]
  },
  {
   "cell_type": "code",
   "execution_count": 11,
   "metadata": {
    "executionInfo": {
     "elapsed": 22,
     "status": "ok",
     "timestamp": 1702060650083,
     "user": {
      "displayName": "Adlisse",
      "userId": "09888939323989321551"
     },
     "user_tz": -180
    },
    "id": "4yUQk6hMriup"
   },
   "outputs": [],
   "source": [
    "class myfunc_conv2D():  # Определение класса для реализации свертки\n",
    "    def __init__(  # Инициализация объекта класса со всеми необходимыми параметрами\n",
    "        self, \n",
    "        input_data, \n",
    "        kernel_size: tuple | int, \n",
    "        bias: float | None = None, \n",
    "        stride: int = 1,  \n",
    "        padding: tuple[int, int] | int | str = (0, 0),\n",
    "        dilation: int = 1, \n",
    "    ):\n",
    "        self.input_data = input_data[0, 0].numpy()  # Преобразование входных данных в numpy массив\n",
    "        self.input_data_for_torch = input_data  \n",
    "        self.bias = bias  \n",
    "\n",
    "        if type(kernel_size) == tuple:  # Проверка типа ядра свертки\n",
    "            self.kernel_size = kernel_size  \n",
    "        else:\n",
    "            self.kernel_size = (kernel_size, kernel_size)  # Преобразование в кортеж, если ядро - целое число\n",
    "\n",
    "        self.stride = stride  \n",
    "        self.dilation = dilation \n",
    "\n",
    "        if type(padding) == tuple:  # Проверка типа параметра паддинга\n",
    "            self.padding = padding[0]  \n",
    "        elif padding == \"same\":  # Если паддинг должен быть \"same\"\n",
    "            if self.stride != 1:  # Проверка, что шаг свертки равен 1\n",
    "                raise ValueError(\"padding 'same' works only with stride=1\")  # Ошибка, если шаг не равен 1\n",
    "            self.padding = self.kernel_size[0] - 1 \n",
    "        elif padding == \"valid\": \n",
    "            self.padding = 0 \n",
    "        else:\n",
    "            self.padding = (padding, padding)  # Преобразование в кортеж, если параметр паддинга - число\n",
    "\n",
    "        self.weight_tensor_for_torch = torch.randn(1, 1, self.kernel_size[0], self.kernel_size[1])  # Генерация весов для библиотеки torch\n",
    "        self.weight_tensor = self.weight_tensor_for_torch[0, 0].numpy() \n",
    "\n",
    "    def conv2d(self):  # Реализация операции свертки\n",
    "        image_height, image_width = self.input_data.shape  \n",
    "        weight_height, weight_width = self.weight_tensor.shape \n",
    "\n",
    "        H_out = int((image_height - self.dilation * (weight_height - 1) - 1 + 2 * self.padding) / self.stride) + 1  # Вычисление высоты выхода\n",
    "        W_out = int((image_width - self.dilation * (weight_width - 1) - 1 + 2 * self.padding) / self.stride) + 1  # Вычисление ширины выхода\n",
    "\n",
    "        if self.padding > 0:\n",
    "            self.input_data = np.pad(self.input_data, self.padding, mode='constant')  # Применение паддинга к входным данным\n",
    "\n",
    "        result = np.zeros((H_out, W_out)) \n",
    "\n",
    "        for y in range(H_out):  # Цикл по высоте выхода\n",
    "            for x in range(W_out):  # Цикл по ширине выхода\n",
    "                input_slice = self.input_data[y * self.stride:y * self.stride + weight_height,\n",
    "                               x * self.stride:x * self.stride + weight_width]  # Выделение среза входных данных\n",
    "                result[y, x] = np.sum(input_slice * self.weight_tensor)  # Свертка и сохранение результата\n",
    "\n",
    "        if self.bias: \n",
    "            result += self.bias  # Добавление смещения\n",
    "\n",
    "        return result  \n",
    "\n",
    "    def torch_conv2d(self):  # Вызов операции свертки из библиотеки torch\n",
    "        return libConv2d(self.input_data_for_torch, self.weight_tensor_for_torch, self.bias, self.stride,\n",
    "                         self.padding, self.dilation)\n",
    "    \n",
    "    # Проверка работы моей функции свертки по сравнению с библиотекой torch\n",
    "    def test(self, print_flg=False):  \n",
    "        my_conv2d = self.conv2d() \n",
    "        torch_out = np.array(self.torch_conv2d())  \n",
    "        if print_flg:  \n",
    "            print(my_conv2d)  \n",
    "            print(torch_out[0, 0]) \n",
    "        print(np.allclose(my_conv2d, torch_out[0, 0]))  # Проверка совпадения результатов свертки\n"
   ]
  },
  {
   "cell_type": "markdown",
   "metadata": {},
   "source": [
    "### Дальше идет проверка как раз-таки работоспособности моей функции сразу тест на сравнение со сверткой из торча, совпадают ли наши выходы и правильно ли все работает в общем:"
   ]
  },
  {
   "cell_type": "markdown",
   "metadata": {},
   "source": [
    "#### ТЕСТ 1"
   ]
  },
  {
   "cell_type": "code",
   "execution_count": 18,
   "metadata": {
    "colab": {
     "base_uri": "https://localhost:8080/"
    },
    "executionInfo": {
     "elapsed": 21,
     "status": "ok",
     "timestamp": 1702060650083,
     "user": {
      "displayName": "Adlisse",
      "userId": "09888939323989321551"
     },
     "user_tz": -180
    },
    "id": "en4mN9C9tir1",
    "outputId": "0659f3a9-c298-4de2-f8c8-c806ac98452f"
   },
   "outputs": [
    {
     "name": "stdout",
     "output_type": "stream",
     "text": [
      "True\n"
     ]
    }
   ],
   "source": [
    "image = torch.randn(1,1,5,5)\n",
    "test1_out = myfunc_conv2D(image, kernel_size=1)\n",
    "test1_out.test()"
   ]
  },
  {
   "cell_type": "markdown",
   "metadata": {},
   "source": [
    "#### ТЕСТ 2"
   ]
  },
  {
   "cell_type": "code",
   "execution_count": 19,
   "metadata": {
    "colab": {
     "base_uri": "https://localhost:8080/"
    },
    "executionInfo": {
     "elapsed": 17,
     "status": "ok",
     "timestamp": 1702060650083,
     "user": {
      "displayName": "Adlisse",
      "userId": "09888939323989321551"
     },
     "user_tz": -180
    },
    "id": "Sh_-b2D-tlcp",
    "outputId": "90c4aaa1-0663-435c-ca07-cd40e7299ac1"
   },
   "outputs": [
    {
     "name": "stdout",
     "output_type": "stream",
     "text": [
      "True\n"
     ]
    }
   ],
   "source": [
    "image = torch.randn(1,1,5,5)\n",
    "test2_out = myfunc_conv2D(image, kernel_size=1, padding='valid')\n",
    "test2_out.test()"
   ]
  },
  {
   "cell_type": "markdown",
   "metadata": {},
   "source": [
    "#### ТЕСТ 3"
   ]
  },
  {
   "cell_type": "code",
   "execution_count": 20,
   "metadata": {
    "colab": {
     "base_uri": "https://localhost:8080/"
    },
    "executionInfo": {
     "elapsed": 16,
     "status": "ok",
     "timestamp": 1702060650084,
     "user": {
      "displayName": "Adlisse",
      "userId": "09888939323989321551"
     },
     "user_tz": -180
    },
    "id": "ZESYVJk4tnD6",
    "outputId": "cd005f2f-2b0c-48f9-a166-f015d09f93e7"
   },
   "outputs": [
    {
     "name": "stdout",
     "output_type": "stream",
     "text": [
      "True\n"
     ]
    }
   ],
   "source": [
    "image = torch.randn(1,1,5,5)\n",
    "test3_out = myfunc_conv2D(image, kernel_size=1, padding='same')\n",
    "test3_out.test()"
   ]
  },
  {
   "cell_type": "markdown",
   "metadata": {},
   "source": [
    "#### ТЕСТ 4"
   ]
  },
  {
   "cell_type": "code",
   "execution_count": 21,
   "metadata": {
    "colab": {
     "base_uri": "https://localhost:8080/"
    },
    "executionInfo": {
     "elapsed": 14,
     "status": "ok",
     "timestamp": 1702060650084,
     "user": {
      "displayName": "Adlisse",
      "userId": "09888939323989321551"
     },
     "user_tz": -180
    },
    "id": "jljxK8Zwtoth",
    "outputId": "48647124-4715-4782-daa2-b2e53b340ec1"
   },
   "outputs": [
    {
     "name": "stdout",
     "output_type": "stream",
     "text": [
      "True\n"
     ]
    }
   ],
   "source": [
    "image = torch.randn(1,1,5,5)\n",
    "test4_out = myfunc_conv2D(image, kernel_size=4, padding='same')\n",
    "test4_out.test()"
   ]
  },
  {
   "cell_type": "markdown",
   "metadata": {},
   "source": [
    "#### ТЕСТ 5"
   ]
  },
  {
   "cell_type": "code",
   "execution_count": 22,
   "metadata": {
    "colab": {
     "base_uri": "https://localhost:8080/"
    },
    "executionInfo": {
     "elapsed": 13,
     "status": "ok",
     "timestamp": 1702060650084,
     "user": {
      "displayName": "Adlisse",
      "userId": "09888939323989321551"
     },
     "user_tz": -180
    },
    "id": "X9z9CYe5tp74",
    "outputId": "97605858-afba-4e8b-d96a-220e67337167"
   },
   "outputs": [
    {
     "name": "stdout",
     "output_type": "stream",
     "text": [
      "True\n"
     ]
    }
   ],
   "source": [
    "image = torch.randn(1,1,5,5)\n",
    "test5_out = myfunc_conv2D(image, kernel_size=1, dilation=3)\n",
    "test5_out.test()"
   ]
  },
  {
   "cell_type": "markdown",
   "metadata": {},
   "source": [
    "#### ТЕСТ 6"
   ]
  },
  {
   "cell_type": "code",
   "execution_count": 23,
   "metadata": {
    "colab": {
     "base_uri": "https://localhost:8080/"
    },
    "executionInfo": {
     "elapsed": 11,
     "status": "ok",
     "timestamp": 1702060650084,
     "user": {
      "displayName": "Adlisse",
      "userId": "09888939323989321551"
     },
     "user_tz": -180
    },
    "id": "EPmuNwH3tpX6",
    "outputId": "50d085db-253b-4a21-b34e-bc0b05579f88"
   },
   "outputs": [
    {
     "name": "stdout",
     "output_type": "stream",
     "text": [
      "True\n"
     ]
    }
   ],
   "source": [
    "image = torch.randn(1,1,5,5)\n",
    "test6_out = myfunc_conv2D(image, kernel_size=1, stride=4)\n",
    "test6_out.test()"
   ]
  },
  {
   "cell_type": "markdown",
   "metadata": {},
   "source": [
    "### Как видно из результатов выше -  функция свертки работает отлично, результаты с оригинальной из торча совпадают с моей!"
   ]
  },
  {
   "cell_type": "code",
   "execution_count": null,
   "metadata": {},
   "outputs": [],
   "source": []
  }
 ],
 "metadata": {
  "colab": {
   "provenance": []
  },
  "kernelspec": {
   "display_name": "Python 3 (ipykernel)",
   "language": "python",
   "name": "python3"
  },
  "language_info": {
   "codemirror_mode": {
    "name": "ipython",
    "version": 3
   },
   "file_extension": ".py",
   "mimetype": "text/x-python",
   "name": "python",
   "nbconvert_exporter": "python",
   "pygments_lexer": "ipython3",
   "version": "3.11.5"
  }
 },
 "nbformat": 4,
 "nbformat_minor": 4
}
